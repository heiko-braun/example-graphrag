{
 "cells": [
  {
   "cell_type": "code",
   "execution_count": 1,
   "id": "c54ec281-cc42-4aec-8841-601b49b56f2f",
   "metadata": {},
   "outputs": [],
   "source": [
    "from core.prompts import ENTITY_PROMPT"
   ]
  },
  {
   "cell_type": "code",
   "execution_count": 10,
   "id": "2fd0ebb7-4072-4172-80c5-c9d98dbc5295",
   "metadata": {},
   "outputs": [
    {
     "name": "stdout",
     "output_type": "stream",
     "text": [
      "\n",
      "-Goal-\n",
      "Given a text document that is potentially relevant to this activity and a list of entity types, identify all entities of those types from the text and all relationships among the identified entities.\n",
      " \n",
      "-Steps-\n",
      "1. Identify all entities. For each identified entity, extract the following information:\n",
      "- entity_name: Name of the entity, capitalized\n",
      "- entity_type: One of the following types: [any]\n",
      "- entity_description: Comprehensive description of the entity's attributes and activities\n",
      "Format each entity as (\"entity\" -> <entity_name> -> <entity_type> -> <entity_description>)\n",
      " \n",
      "2. From the entities identified in step 1, identify all pairs of (source_entity, target_entity) that are *clearly related* to each other.\n",
      "For each pair of related entities, extract the following information:\n",
      "- source_entity: name of the source entity, as identified in step 1\n",
      "- target_entity: name of the target entity, as identified in step 1\n",
      "- relationship_description: explanation as to why you think the source entity and the target entity are related to each other\n",
      "- relationship_strength: a numeric score indicating strength of the relationship between the source entity and target entity\n",
      " Format each relationship as (\"relationship\" -> <source_entity> -> <target_entity> -> <relationship_description> -> <relationship_strength>)\n",
      " \n",
      "3. Return output in English as a single list of all the entities and relationships identified in steps 1 and 2. Use **\n",
      "** as the list delimiter.\n",
      " \n",
      "4. When finished, output DONE\n",
      "\n"
     ]
    }
   ],
   "source": [
    "print(ENTITY_PROMPT.format(\n",
    "    tuple_delimiter=\" -> \",\n",
    "    entity_types=\"any\",\n",
    "    record_delimiter=\"\\n\",\n",
    "    completion_delimiter=\"DONE\"\n",
    "))"
   ]
  }
 ],
 "metadata": {
  "kernelspec": {
   "display_name": "Python 3 (ipykernel)",
   "language": "python",
   "name": "python3"
  },
  "language_info": {
   "codemirror_mode": {
    "name": "ipython",
    "version": 3
   },
   "file_extension": ".py",
   "mimetype": "text/x-python",
   "name": "python",
   "nbconvert_exporter": "python",
   "pygments_lexer": "ipython3",
   "version": "3.12.5"
  }
 },
 "nbformat": 4,
 "nbformat_minor": 5
}
